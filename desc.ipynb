{
 "cells": [
  {
   "cell_type": "markdown",
   "metadata": {},
   "source": [
    "# Descriptive statistics using Polars or Panda\n",
    "## IDS 706 Data Engineering Systems\n",
    " Author: Tianji Rao"
   ]
  },
  {
   "cell_type": "markdown",
   "metadata": {},
   "source": [
    "## Contents:\n",
    "[1.Introduction](#1-introduction)   \n",
    "[2.Pandas](#2-pandas)"
   ]
  },
  {
   "cell_type": "markdown",
   "metadata": {},
   "source": [
    "# 1. Introduction\n",
    "\n",
    "## Import necessary packages"
   ]
  },
  {
   "cell_type": "code",
   "execution_count": 1,
   "metadata": {},
   "outputs": [],
   "source": [
    "import pandas as pd\n",
    "import polars as pl"
   ]
  },
  {
   "cell_type": "markdown",
   "metadata": {},
   "source": [
    "\n",
    "Here, the author used the [`Eletric_Vehicle_Population_Data.csv`](https://catalog.data.gov/dataset/electric-vehicle-population-data) as the sample dataset and performed a series of descriptive statistics. Here we can have a glance at the dataset. All customized functions are from `mylib`, which contains `for_pandas.py` and `for_polars`."
   ]
  },
  {
   "cell_type": "code",
   "execution_count": 2,
   "metadata": {},
   "outputs": [
    {
     "name": "stdout",
     "output_type": "stream",
     "text": [
      "<class 'pandas.core.frame.DataFrame'>\n",
      "RangeIndex: 143591 entries, 5 to 143595\n",
      "Data columns (total 17 columns):\n",
      " #   Column                                             Non-Null Count   Dtype  \n",
      "---  ------                                             --------------   -----  \n",
      " 0   VIN (1-10)                                         143591 non-null  object \n",
      " 1   County                                             143569 non-null  object \n",
      " 2   City                                               143569 non-null  object \n",
      " 3   State                                              143591 non-null  object \n",
      " 4   Postal Code                                        143569 non-null  float64\n",
      " 5   Model Year                                         143591 non-null  int64  \n",
      " 6   Make                                               143591 non-null  object \n",
      " 7   Model                                              143591 non-null  object \n",
      " 8   Electric Vehicle Type                              143591 non-null  object \n",
      " 9   Clean Alternative Fuel Vehicle (CAFV) Eligibility  143591 non-null  object \n",
      " 10  Electric Range                                     143591 non-null  int64  \n",
      " 11  Base MSRP                                          143591 non-null  int64  \n",
      " 12  Legislative District                               143264 non-null  float64\n",
      " 13  DOL Vehicle ID                                     143591 non-null  int64  \n",
      " 14  Vehicle Location                                   143566 non-null  object \n",
      " 15  Electric Utility                                   143569 non-null  object \n",
      " 16  2020 Census Tract                                  143569 non-null  float64\n",
      "dtypes: float64(3), int64(4), object(10)\n",
      "memory usage: 18.6+ MB\n"
     ]
    }
   ],
   "source": [
    "# Using pandas to read .csv file\n",
    "df = pd.read_csv('Electric_Vehicle_Population_Data.csv').iloc[5:,]\n",
    "# print data information\n",
    "df.info()\n"
   ]
  },
  {
   "cell_type": "code",
   "execution_count": 3,
   "metadata": {},
   "outputs": [
    {
     "data": {
      "text/html": [
       "<div>\n",
       "<style scoped>\n",
       "    .dataframe tbody tr th:only-of-type {\n",
       "        vertical-align: middle;\n",
       "    }\n",
       "\n",
       "    .dataframe tbody tr th {\n",
       "        vertical-align: top;\n",
       "    }\n",
       "\n",
       "    .dataframe thead th {\n",
       "        text-align: right;\n",
       "    }\n",
       "</style>\n",
       "<table border=\"1\" class=\"dataframe\">\n",
       "  <thead>\n",
       "    <tr style=\"text-align: right;\">\n",
       "      <th></th>\n",
       "      <th>VIN (1-10)</th>\n",
       "      <th>County</th>\n",
       "      <th>City</th>\n",
       "      <th>State</th>\n",
       "      <th>Postal Code</th>\n",
       "      <th>Model Year</th>\n",
       "      <th>Make</th>\n",
       "      <th>Model</th>\n",
       "      <th>Electric Vehicle Type</th>\n",
       "      <th>Clean Alternative Fuel Vehicle (CAFV) Eligibility</th>\n",
       "      <th>Electric Range</th>\n",
       "      <th>Base MSRP</th>\n",
       "      <th>Legislative District</th>\n",
       "      <th>DOL Vehicle ID</th>\n",
       "      <th>Vehicle Location</th>\n",
       "      <th>Electric Utility</th>\n",
       "      <th>2020 Census Tract</th>\n",
       "    </tr>\n",
       "  </thead>\n",
       "  <tbody>\n",
       "    <tr>\n",
       "      <th>5</th>\n",
       "      <td>WB523CF03P</td>\n",
       "      <td>Yakima</td>\n",
       "      <td>Selah</td>\n",
       "      <td>WA</td>\n",
       "      <td>98942.0</td>\n",
       "      <td>2023</td>\n",
       "      <td>BMW</td>\n",
       "      <td>IX</td>\n",
       "      <td>Battery Electric Vehicle (BEV)</td>\n",
       "      <td>Eligibility unknown as battery range has not b...</td>\n",
       "      <td>0</td>\n",
       "      <td>0</td>\n",
       "      <td>15.0</td>\n",
       "      <td>236290862</td>\n",
       "      <td>POINT (-120.54187999999999 46.654175000000066)</td>\n",
       "      <td>PACIFICORP</td>\n",
       "      <td>5.307700e+10</td>\n",
       "    </tr>\n",
       "    <tr>\n",
       "      <th>6</th>\n",
       "      <td>YV4BR0CK2K</td>\n",
       "      <td>King</td>\n",
       "      <td>Bellevue</td>\n",
       "      <td>WA</td>\n",
       "      <td>98004.0</td>\n",
       "      <td>2019</td>\n",
       "      <td>VOLVO</td>\n",
       "      <td>XC90</td>\n",
       "      <td>Plug-in Hybrid Electric Vehicle (PHEV)</td>\n",
       "      <td>Not eligible due to low battery range</td>\n",
       "      <td>17</td>\n",
       "      <td>0</td>\n",
       "      <td>48.0</td>\n",
       "      <td>125426248</td>\n",
       "      <td>POINT (-122.201905 47.61385)</td>\n",
       "      <td>PUGET SOUND ENERGY INC||CITY OF TACOMA - (WA)</td>\n",
       "      <td>5.303302e+10</td>\n",
       "    </tr>\n",
       "    <tr>\n",
       "      <th>7</th>\n",
       "      <td>5YJ3E1EA5K</td>\n",
       "      <td>Thurston</td>\n",
       "      <td>Olympia</td>\n",
       "      <td>WA</td>\n",
       "      <td>98506.0</td>\n",
       "      <td>2019</td>\n",
       "      <td>TESLA</td>\n",
       "      <td>MODEL 3</td>\n",
       "      <td>Battery Electric Vehicle (BEV)</td>\n",
       "      <td>Clean Alternative Fuel Vehicle Eligible</td>\n",
       "      <td>220</td>\n",
       "      <td>0</td>\n",
       "      <td>22.0</td>\n",
       "      <td>477699071</td>\n",
       "      <td>POINT (-122.88747809999995 47.051957300000026)</td>\n",
       "      <td>PUGET SOUND ENERGY INC</td>\n",
       "      <td>5.306701e+10</td>\n",
       "    </tr>\n",
       "    <tr>\n",
       "      <th>8</th>\n",
       "      <td>5YJ3E1EB6K</td>\n",
       "      <td>Yakima</td>\n",
       "      <td>Yakima</td>\n",
       "      <td>WA</td>\n",
       "      <td>98902.0</td>\n",
       "      <td>2019</td>\n",
       "      <td>TESLA</td>\n",
       "      <td>MODEL 3</td>\n",
       "      <td>Battery Electric Vehicle (BEV)</td>\n",
       "      <td>Clean Alternative Fuel Vehicle Eligible</td>\n",
       "      <td>220</td>\n",
       "      <td>0</td>\n",
       "      <td>14.0</td>\n",
       "      <td>232637037</td>\n",
       "      <td>POINT (-120.52401199999997 46.59739390000004)</td>\n",
       "      <td>PACIFICORP</td>\n",
       "      <td>5.307700e+10</td>\n",
       "    </tr>\n",
       "    <tr>\n",
       "      <th>9</th>\n",
       "      <td>1N4AZ0CP9G</td>\n",
       "      <td>King</td>\n",
       "      <td>Redmond</td>\n",
       "      <td>WA</td>\n",
       "      <td>98052.0</td>\n",
       "      <td>2016</td>\n",
       "      <td>NISSAN</td>\n",
       "      <td>LEAF</td>\n",
       "      <td>Battery Electric Vehicle (BEV)</td>\n",
       "      <td>Clean Alternative Fuel Vehicle Eligible</td>\n",
       "      <td>84</td>\n",
       "      <td>0</td>\n",
       "      <td>45.0</td>\n",
       "      <td>178151032</td>\n",
       "      <td>POINT (-122.12302 47.67668)</td>\n",
       "      <td>PUGET SOUND ENERGY INC||CITY OF TACOMA - (WA)</td>\n",
       "      <td>5.303303e+10</td>\n",
       "    </tr>\n",
       "  </tbody>\n",
       "</table>\n",
       "</div>"
      ],
      "text/plain": [
       "   VIN (1-10)    County      City State  Postal Code  Model Year    Make  \\\n",
       "5  WB523CF03P    Yakima     Selah    WA      98942.0        2023     BMW   \n",
       "6  YV4BR0CK2K      King  Bellevue    WA      98004.0        2019   VOLVO   \n",
       "7  5YJ3E1EA5K  Thurston   Olympia    WA      98506.0        2019   TESLA   \n",
       "8  5YJ3E1EB6K    Yakima    Yakima    WA      98902.0        2019   TESLA   \n",
       "9  1N4AZ0CP9G      King   Redmond    WA      98052.0        2016  NISSAN   \n",
       "\n",
       "     Model                   Electric Vehicle Type  \\\n",
       "5       IX          Battery Electric Vehicle (BEV)   \n",
       "6     XC90  Plug-in Hybrid Electric Vehicle (PHEV)   \n",
       "7  MODEL 3          Battery Electric Vehicle (BEV)   \n",
       "8  MODEL 3          Battery Electric Vehicle (BEV)   \n",
       "9     LEAF          Battery Electric Vehicle (BEV)   \n",
       "\n",
       "   Clean Alternative Fuel Vehicle (CAFV) Eligibility  Electric Range  \\\n",
       "5  Eligibility unknown as battery range has not b...               0   \n",
       "6              Not eligible due to low battery range              17   \n",
       "7            Clean Alternative Fuel Vehicle Eligible             220   \n",
       "8            Clean Alternative Fuel Vehicle Eligible             220   \n",
       "9            Clean Alternative Fuel Vehicle Eligible              84   \n",
       "\n",
       "   Base MSRP  Legislative District  DOL Vehicle ID  \\\n",
       "5          0                  15.0       236290862   \n",
       "6          0                  48.0       125426248   \n",
       "7          0                  22.0       477699071   \n",
       "8          0                  14.0       232637037   \n",
       "9          0                  45.0       178151032   \n",
       "\n",
       "                                 Vehicle Location  \\\n",
       "5  POINT (-120.54187999999999 46.654175000000066)   \n",
       "6                    POINT (-122.201905 47.61385)   \n",
       "7  POINT (-122.88747809999995 47.051957300000026)   \n",
       "8   POINT (-120.52401199999997 46.59739390000004)   \n",
       "9                     POINT (-122.12302 47.67668)   \n",
       "\n",
       "                                Electric Utility  2020 Census Tract  \n",
       "5                                     PACIFICORP       5.307700e+10  \n",
       "6  PUGET SOUND ENERGY INC||CITY OF TACOMA - (WA)       5.303302e+10  \n",
       "7                         PUGET SOUND ENERGY INC       5.306701e+10  \n",
       "8                                     PACIFICORP       5.307700e+10  \n",
       "9  PUGET SOUND ENERGY INC||CITY OF TACOMA - (WA)       5.303303e+10  "
      ]
     },
     "execution_count": 3,
     "metadata": {},
     "output_type": "execute_result"
    }
   ],
   "source": [
    "df.head()"
   ]
  },
  {
   "cell_type": "code",
   "execution_count": 4,
   "metadata": {},
   "outputs": [
    {
     "data": {
      "text/plain": [
       "(143591, 17)"
      ]
     },
     "execution_count": 4,
     "metadata": {},
     "output_type": "execute_result"
    }
   ],
   "source": [
    "df.shape"
   ]
  },
  {
   "cell_type": "markdown",
   "metadata": {},
   "source": [
    "# 2. Pandas\n",
    "\n",
    "Since importing data is shown in previous section, we already have a `pd.DataFrame` as our dataset. let's start from using `pandas` to do statistical descripition. Here, we gonna use `pd_desc` from `mylib.lib` to print a series of useful statistics.\n",
    "\n",
    "\n",
    "## 2.1 Descriptitive Statistics\n",
    "Here we can use the function `pd_desc` in `lib.py`, this function is based on `pd.DataFrame.describe()`. The code is:\n",
    "\n",
    "```{python}\n",
    "def pd_desc(df):\n",
    "    return df.describe()\n",
    "```\n"
   ]
  },
  {
   "cell_type": "code",
   "execution_count": 5,
   "metadata": {},
   "outputs": [],
   "source": [
    "from mylib.lib import pd_desc"
   ]
  },
  {
   "cell_type": "code",
   "execution_count": 6,
   "metadata": {},
   "outputs": [
    {
     "data": {
      "text/html": [
       "<div>\n",
       "<style scoped>\n",
       "    .dataframe tbody tr th:only-of-type {\n",
       "        vertical-align: middle;\n",
       "    }\n",
       "\n",
       "    .dataframe tbody tr th {\n",
       "        vertical-align: top;\n",
       "    }\n",
       "\n",
       "    .dataframe thead th {\n",
       "        text-align: right;\n",
       "    }\n",
       "</style>\n",
       "<table border=\"1\" class=\"dataframe\">\n",
       "  <thead>\n",
       "    <tr style=\"text-align: right;\">\n",
       "      <th></th>\n",
       "      <th>Postal Code</th>\n",
       "      <th>Model Year</th>\n",
       "      <th>Electric Range</th>\n",
       "      <th>Base MSRP</th>\n",
       "      <th>Legislative District</th>\n",
       "      <th>DOL Vehicle ID</th>\n",
       "      <th>2020 Census Tract</th>\n",
       "    </tr>\n",
       "  </thead>\n",
       "  <tbody>\n",
       "    <tr>\n",
       "      <th>count</th>\n",
       "      <td>143569.000000</td>\n",
       "      <td>143591.000000</td>\n",
       "      <td>143591.000000</td>\n",
       "      <td>143591.000000</td>\n",
       "      <td>143264.000000</td>\n",
       "      <td>1.435910e+05</td>\n",
       "      <td>1.435690e+05</td>\n",
       "    </tr>\n",
       "    <tr>\n",
       "      <th>mean</th>\n",
       "      <td>98175.207775</td>\n",
       "      <td>2019.865632</td>\n",
       "      <td>70.494481</td>\n",
       "      <td>1372.947538</td>\n",
       "      <td>29.371698</td>\n",
       "      <td>2.092021e+08</td>\n",
       "      <td>5.297590e+10</td>\n",
       "    </tr>\n",
       "    <tr>\n",
       "      <th>std</th>\n",
       "      <td>2383.209689</td>\n",
       "      <td>3.015954</td>\n",
       "      <td>97.128551</td>\n",
       "      <td>9448.499027</td>\n",
       "      <td>14.824054</td>\n",
       "      <td>8.353809e+07</td>\n",
       "      <td>1.594068e+09</td>\n",
       "    </tr>\n",
       "    <tr>\n",
       "      <th>min</th>\n",
       "      <td>1730.000000</td>\n",
       "      <td>1997.000000</td>\n",
       "      <td>0.000000</td>\n",
       "      <td>0.000000</td>\n",
       "      <td>1.000000</td>\n",
       "      <td>4.385000e+03</td>\n",
       "      <td>1.081042e+09</td>\n",
       "    </tr>\n",
       "    <tr>\n",
       "      <th>25%</th>\n",
       "      <td>98052.000000</td>\n",
       "      <td>2018.000000</td>\n",
       "      <td>0.000000</td>\n",
       "      <td>0.000000</td>\n",
       "      <td>18.000000</td>\n",
       "      <td>1.668336e+08</td>\n",
       "      <td>5.303301e+10</td>\n",
       "    </tr>\n",
       "    <tr>\n",
       "      <th>50%</th>\n",
       "      <td>98122.000000</td>\n",
       "      <td>2021.000000</td>\n",
       "      <td>19.000000</td>\n",
       "      <td>0.000000</td>\n",
       "      <td>33.000000</td>\n",
       "      <td>2.111045e+08</td>\n",
       "      <td>5.303303e+10</td>\n",
       "    </tr>\n",
       "    <tr>\n",
       "      <th>75%</th>\n",
       "      <td>98370.000000</td>\n",
       "      <td>2022.000000</td>\n",
       "      <td>111.000000</td>\n",
       "      <td>0.000000</td>\n",
       "      <td>43.000000</td>\n",
       "      <td>2.364520e+08</td>\n",
       "      <td>5.305307e+10</td>\n",
       "    </tr>\n",
       "    <tr>\n",
       "      <th>max</th>\n",
       "      <td>99403.000000</td>\n",
       "      <td>2024.000000</td>\n",
       "      <td>337.000000</td>\n",
       "      <td>845000.000000</td>\n",
       "      <td>49.000000</td>\n",
       "      <td>4.792548e+08</td>\n",
       "      <td>5.603300e+10</td>\n",
       "    </tr>\n",
       "  </tbody>\n",
       "</table>\n",
       "</div>"
      ],
      "text/plain": [
       "         Postal Code     Model Year  Electric Range      Base MSRP  \\\n",
       "count  143569.000000  143591.000000   143591.000000  143591.000000   \n",
       "mean    98175.207775    2019.865632       70.494481    1372.947538   \n",
       "std      2383.209689       3.015954       97.128551    9448.499027   \n",
       "min      1730.000000    1997.000000        0.000000       0.000000   \n",
       "25%     98052.000000    2018.000000        0.000000       0.000000   \n",
       "50%     98122.000000    2021.000000       19.000000       0.000000   \n",
       "75%     98370.000000    2022.000000      111.000000       0.000000   \n",
       "max     99403.000000    2024.000000      337.000000  845000.000000   \n",
       "\n",
       "       Legislative District  DOL Vehicle ID  2020 Census Tract  \n",
       "count         143264.000000    1.435910e+05       1.435690e+05  \n",
       "mean              29.371698    2.092021e+08       5.297590e+10  \n",
       "std               14.824054    8.353809e+07       1.594068e+09  \n",
       "min                1.000000    4.385000e+03       1.081042e+09  \n",
       "25%               18.000000    1.668336e+08       5.303301e+10  \n",
       "50%               33.000000    2.111045e+08       5.303303e+10  \n",
       "75%               43.000000    2.364520e+08       5.305307e+10  \n",
       "max               49.000000    4.792548e+08       5.603300e+10  "
      ]
     },
     "execution_count": 6,
     "metadata": {},
     "output_type": "execute_result"
    }
   ],
   "source": [
    "pd_desc(df)"
   ]
  },
  {
   "cell_type": "code",
   "execution_count": null,
   "metadata": {},
   "outputs": [],
   "source": []
  },
  {
   "cell_type": "markdown",
   "metadata": {},
   "source": [
    "## 2.2 Visualization\n",
    "\n",
    "Using the function `pd_visual` to plot the bar chart. Here is the code for function `pd_visual`:\n",
    "\n",
    "```{python}\n",
    "def pd_visual(df):\n",
    "    df.plot(kind=\"bar\")\n",
    "    plt.xticks(rotation = 90)\n",
    "    plt.show()\n",
    "```\n",
    "\n"
   ]
  },
  {
   "cell_type": "code",
   "execution_count": 18,
   "metadata": {},
   "outputs": [],
   "source": [
    "from mylib.lib import pd_visual"
   ]
  },
  {
   "cell_type": "code",
   "execution_count": 19,
   "metadata": {},
   "outputs": [
    {
     "data": {
      "image/png": "[encoded data removed]",
      "text/plain": [
       "<Figure size 640x480 with 1 Axes>"
      ]
     },
     "metadata": {},
     "output_type": "display_data"
    }
   ],
   "source": [
    "pd_visual(df['Electric Range'][:100])"
   ]
  },
  {
   "cell_type": "code",
   "execution_count": null,
   "metadata": {},
   "outputs": [],
   "source": []
  }
 ],
 "metadata": {
  "kernelspec": {
   "display_name": "base",
   "language": "python",
   "name": "python3"
  },
  "language_info": {
   "codemirror_mode": {
    "name": "ipython",
    "version": 3
   },
   "file_extension": ".py",
   "mimetype": "text/x-python",
   "name": "python",
   "nbconvert_exporter": "python",
   "pygments_lexer": "ipython3",
   "version": "3.11.4"
  },
  "orig_nbformat": 4
 },
 "nbformat": 4,
 "nbformat_minor": 2
}
