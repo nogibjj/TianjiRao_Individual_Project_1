{
 "cells": [
  {
   "cell_type": "markdown",
   "metadata": {},
   "source": [
    "# Descriptive statistics using Polars or Panda\n",
    "## IDS 706 Data Engineering Systems\n",
    " Author: Tianji Rao"
   ]
  },
  {
   "cell_type": "markdown",
   "metadata": {},
   "source": [
    "## Contents:\n",
    "#### [1.Introduction](#1-introduction)   \n",
    "#### [2.Pandas](#2-pandas)"
   ]
  },
  {
   "cell_type": "markdown",
   "metadata": {},
   "source": [
    "# 1. Introduction\n",
    "\n",
    "## Import necessary packages"
   ]
  },
  {
   "cell_type": "code",
   "execution_count": 2,
   "metadata": {},
   "outputs": [],
   "source": [
    "import pandas as pd\n",
    "# import polars as pl\n",
    "from lib import pd_desc, mean, median, std, pd_visual"
   ]
  },
  {
   "cell_type": "markdown",
   "metadata": {},
   "source": [
    "\n",
    "Here, the author used the [`Eletric_Vehicle_Population_Data.csv`](https://catalog.data.gov/dataset/electric-vehicle-population-data) as the sample dataset and performed a series of descriptive statistics. Here we can have a glance at the dataset. All customized functions are from `lib`, which contains functions that can be used for statistical description and visualization."
   ]
  },
  {
   "cell_type": "code",
   "execution_count": 3,
   "metadata": {},
   "outputs": [
    {
     "name": "stdout",
     "output_type": "stream",
     "text": [
      "<class 'pandas.core.frame.DataFrame'>\n",
      "RangeIndex: 143596 entries, 0 to 143595\n",
      "Data columns (total 17 columns):\n",
      " #   Column                                             Non-Null Count   Dtype  \n",
      "---  ------                                             --------------   -----  \n",
      " 0   VIN (1-10)                                         143596 non-null  object \n",
      " 1   County                                             143574 non-null  object \n",
      " 2   City                                               143574 non-null  object \n",
      " 3   State                                              143596 non-null  object \n",
      " 4   Postal Code                                        143574 non-null  float64\n",
      " 5   Model Year                                         143596 non-null  int64  \n",
      " 6   Make                                               143596 non-null  object \n",
      " 7   Model                                              143596 non-null  object \n",
      " 8   Electric Vehicle Type                              143596 non-null  object \n",
      " 9   Clean Alternative Fuel Vehicle (CAFV) Eligibility  143596 non-null  object \n",
      " 10  Electric Range                                     143596 non-null  int64  \n",
      " 11  Base MSRP                                          143596 non-null  int64  \n",
      " 12  Legislative District                               143269 non-null  float64\n",
      " 13  DOL Vehicle ID                                     143596 non-null  int64  \n",
      " 14  Vehicle Location                                   143571 non-null  object \n",
      " 15  Electric Utility                                   143574 non-null  object \n",
      " 16  2020 Census Tract                                  143574 non-null  float64\n",
      "dtypes: float64(3), int64(4), object(10)\n",
      "memory usage: 18.6+ MB\n"
     ]
    }
   ],
   "source": [
    "# Using pandas to read .csv file\n",
    "df = pd.read_csv('Electric_Vehicle_Population_Data.csv')\n",
    "# print data information\n",
    "df.info()\n"
   ]
  },
  {
   "cell_type": "code",
   "execution_count": 4,
   "metadata": {},
   "outputs": [
    {
     "data": {
      "text/html": [
       "<div>\n",
       "<style scoped>\n",
       "    .dataframe tbody tr th:only-of-type {\n",
       "        vertical-align: middle;\n",
       "    }\n",
       "\n",
       "    .dataframe tbody tr th {\n",
       "        vertical-align: top;\n",
       "    }\n",
       "\n",
       "    .dataframe thead th {\n",
       "        text-align: right;\n",
       "    }\n",
       "</style>\n",
       "<table border=\"1\" class=\"dataframe\">\n",
       "  <thead>\n",
       "    <tr style=\"text-align: right;\">\n",
       "      <th></th>\n",
       "      <th>VIN (1-10)</th>\n",
       "      <th>County</th>\n",
       "      <th>City</th>\n",
       "      <th>State</th>\n",
       "      <th>Postal Code</th>\n",
       "      <th>Model Year</th>\n",
       "      <th>Make</th>\n",
       "      <th>Model</th>\n",
       "      <th>Electric Vehicle Type</th>\n",
       "      <th>Clean Alternative Fuel Vehicle (CAFV) Eligibility</th>\n",
       "      <th>Electric Range</th>\n",
       "      <th>Base MSRP</th>\n",
       "      <th>Legislative District</th>\n",
       "      <th>DOL Vehicle ID</th>\n",
       "      <th>Vehicle Location</th>\n",
       "      <th>Electric Utility</th>\n",
       "      <th>2020 Census Tract</th>\n",
       "    </tr>\n",
       "  </thead>\n",
       "  <tbody>\n",
       "    <tr>\n",
       "      <th>0</th>\n",
       "      <td>5UXTA6C03P</td>\n",
       "      <td>King</td>\n",
       "      <td>Seattle</td>\n",
       "      <td>WA</td>\n",
       "      <td>98177.0</td>\n",
       "      <td>2023</td>\n",
       "      <td>BMW</td>\n",
       "      <td>X5</td>\n",
       "      <td>Plug-in Hybrid Electric Vehicle (PHEV)</td>\n",
       "      <td>Clean Alternative Fuel Vehicle Eligible</td>\n",
       "      <td>30</td>\n",
       "      <td>0</td>\n",
       "      <td>36.0</td>\n",
       "      <td>218985539</td>\n",
       "      <td>POINT (-122.38242499999996 47.77279000000004)</td>\n",
       "      <td>CITY OF SEATTLE - (WA)|CITY OF TACOMA - (WA)</td>\n",
       "      <td>5.303300e+10</td>\n",
       "    </tr>\n",
       "    <tr>\n",
       "      <th>1</th>\n",
       "      <td>1FMCU0EZXN</td>\n",
       "      <td>Yakima</td>\n",
       "      <td>Moxee</td>\n",
       "      <td>WA</td>\n",
       "      <td>98936.0</td>\n",
       "      <td>2022</td>\n",
       "      <td>FORD</td>\n",
       "      <td>ESCAPE</td>\n",
       "      <td>Plug-in Hybrid Electric Vehicle (PHEV)</td>\n",
       "      <td>Clean Alternative Fuel Vehicle Eligible</td>\n",
       "      <td>38</td>\n",
       "      <td>0</td>\n",
       "      <td>15.0</td>\n",
       "      <td>197264322</td>\n",
       "      <td>POINT (-120.37951169999997 46.55609000000004)</td>\n",
       "      <td>PACIFICORP</td>\n",
       "      <td>5.307700e+10</td>\n",
       "    </tr>\n",
       "    <tr>\n",
       "      <th>2</th>\n",
       "      <td>1G1FW6S03J</td>\n",
       "      <td>King</td>\n",
       "      <td>Seattle</td>\n",
       "      <td>WA</td>\n",
       "      <td>98117.0</td>\n",
       "      <td>2018</td>\n",
       "      <td>CHEVROLET</td>\n",
       "      <td>BOLT EV</td>\n",
       "      <td>Battery Electric Vehicle (BEV)</td>\n",
       "      <td>Clean Alternative Fuel Vehicle Eligible</td>\n",
       "      <td>238</td>\n",
       "      <td>0</td>\n",
       "      <td>36.0</td>\n",
       "      <td>168549727</td>\n",
       "      <td>POINT (-122.37275999999997 47.689685000000054)</td>\n",
       "      <td>CITY OF SEATTLE - (WA)|CITY OF TACOMA - (WA)</td>\n",
       "      <td>5.303300e+10</td>\n",
       "    </tr>\n",
       "    <tr>\n",
       "      <th>3</th>\n",
       "      <td>5YJSA1AC0D</td>\n",
       "      <td>King</td>\n",
       "      <td>Newcastle</td>\n",
       "      <td>WA</td>\n",
       "      <td>98059.0</td>\n",
       "      <td>2013</td>\n",
       "      <td>TESLA</td>\n",
       "      <td>MODEL S</td>\n",
       "      <td>Battery Electric Vehicle (BEV)</td>\n",
       "      <td>Clean Alternative Fuel Vehicle Eligible</td>\n",
       "      <td>208</td>\n",
       "      <td>69900</td>\n",
       "      <td>41.0</td>\n",
       "      <td>244891062</td>\n",
       "      <td>POINT (-122.15733999999998 47.487175000000036)</td>\n",
       "      <td>PUGET SOUND ENERGY INC||CITY OF TACOMA - (WA)</td>\n",
       "      <td>5.303303e+10</td>\n",
       "    </tr>\n",
       "    <tr>\n",
       "      <th>4</th>\n",
       "      <td>1FADP5CU8F</td>\n",
       "      <td>Kitsap</td>\n",
       "      <td>Bremerton</td>\n",
       "      <td>WA</td>\n",
       "      <td>98312.0</td>\n",
       "      <td>2015</td>\n",
       "      <td>FORD</td>\n",
       "      <td>C-MAX</td>\n",
       "      <td>Plug-in Hybrid Electric Vehicle (PHEV)</td>\n",
       "      <td>Not eligible due to low battery range</td>\n",
       "      <td>19</td>\n",
       "      <td>0</td>\n",
       "      <td>26.0</td>\n",
       "      <td>134915000</td>\n",
       "      <td>POINT (-122.65223 47.57192)</td>\n",
       "      <td>PUGET SOUND ENERGY INC</td>\n",
       "      <td>5.303508e+10</td>\n",
       "    </tr>\n",
       "  </tbody>\n",
       "</table>\n",
       "</div>"
      ],
      "text/plain": [
       "   VIN (1-10)  County       City State  Postal Code  Model Year       Make  \\\n",
       "0  5UXTA6C03P    King    Seattle    WA      98177.0        2023        BMW   \n",
       "1  1FMCU0EZXN  Yakima      Moxee    WA      98936.0        2022       FORD   \n",
       "2  1G1FW6S03J    King    Seattle    WA      98117.0        2018  CHEVROLET   \n",
       "3  5YJSA1AC0D    King  Newcastle    WA      98059.0        2013      TESLA   \n",
       "4  1FADP5CU8F  Kitsap  Bremerton    WA      98312.0        2015       FORD   \n",
       "\n",
       "     Model                   Electric Vehicle Type  \\\n",
       "0       X5  Plug-in Hybrid Electric Vehicle (PHEV)   \n",
       "1   ESCAPE  Plug-in Hybrid Electric Vehicle (PHEV)   \n",
       "2  BOLT EV          Battery Electric Vehicle (BEV)   \n",
       "3  MODEL S          Battery Electric Vehicle (BEV)   \n",
       "4    C-MAX  Plug-in Hybrid Electric Vehicle (PHEV)   \n",
       "\n",
       "  Clean Alternative Fuel Vehicle (CAFV) Eligibility  Electric Range  \\\n",
       "0           Clean Alternative Fuel Vehicle Eligible              30   \n",
       "1           Clean Alternative Fuel Vehicle Eligible              38   \n",
       "2           Clean Alternative Fuel Vehicle Eligible             238   \n",
       "3           Clean Alternative Fuel Vehicle Eligible             208   \n",
       "4             Not eligible due to low battery range              19   \n",
       "\n",
       "   Base MSRP  Legislative District  DOL Vehicle ID  \\\n",
       "0          0                  36.0       218985539   \n",
       "1          0                  15.0       197264322   \n",
       "2          0                  36.0       168549727   \n",
       "3      69900                  41.0       244891062   \n",
       "4          0                  26.0       134915000   \n",
       "\n",
       "                                 Vehicle Location  \\\n",
       "0   POINT (-122.38242499999996 47.77279000000004)   \n",
       "1   POINT (-120.37951169999997 46.55609000000004)   \n",
       "2  POINT (-122.37275999999997 47.689685000000054)   \n",
       "3  POINT (-122.15733999999998 47.487175000000036)   \n",
       "4                     POINT (-122.65223 47.57192)   \n",
       "\n",
       "                                Electric Utility  2020 Census Tract  \n",
       "0   CITY OF SEATTLE - (WA)|CITY OF TACOMA - (WA)       5.303300e+10  \n",
       "1                                     PACIFICORP       5.307700e+10  \n",
       "2   CITY OF SEATTLE - (WA)|CITY OF TACOMA - (WA)       5.303300e+10  \n",
       "3  PUGET SOUND ENERGY INC||CITY OF TACOMA - (WA)       5.303303e+10  \n",
       "4                         PUGET SOUND ENERGY INC       5.303508e+10  "
      ]
     },
     "execution_count": 4,
     "metadata": {},
     "output_type": "execute_result"
    }
   ],
   "source": [
    "df.head()"
   ]
  },
  {
   "cell_type": "code",
   "execution_count": 5,
   "metadata": {},
   "outputs": [
    {
     "data": {
      "text/plain": [
       "(143596, 17)"
      ]
     },
     "execution_count": 5,
     "metadata": {},
     "output_type": "execute_result"
    }
   ],
   "source": [
    "df.shape"
   ]
  },
  {
   "cell_type": "markdown",
   "metadata": {},
   "source": [
    "# 2. Pandas\n",
    "\n",
    "Since importing data is shown in previous section, we already have a `pd.DataFrame` as our dataset. let's start from using `pandas` to do statistical descripition. Here, we gonna use `pd_desc` from `lib` to print a series of useful statistics.\n",
    "\n",
    "\n",
    "## Descriptive Statistics\n",
    "Here we can use the function `pd_desc` in `lib.py`, this function is based on `pd.DataFrame.describe()`. The code is:\n",
    "\n",
    "```{python}\n",
    "def pd_desc(df):\n",
    "    return df.describe()\n",
    "```\n",
    "\n",
    "To focus on the mean, median, and standard deviation, we also have three other functions `mean()`, `median()`, and `std()`. Combining those three functions, we can get `summary_desc(df)`.\n",
    "\n",
    "\n",
    "```{python}\n",
    "def summary_desc(df):\n",
    "    return [mean(df), median(df), std(df)]\n",
    "```\n"
   ]
  },
  {
   "cell_type": "code",
   "execution_count": 6,
   "metadata": {},
   "outputs": [],
   "source": [
    "# from lib import pd_desc, mean, median, std"
   ]
  },
  {
   "cell_type": "markdown",
   "metadata": {},
   "source": [
    "check the cell below"
   ]
  },
  {
   "cell_type": "code",
   "execution_count": 7,
   "metadata": {},
   "outputs": [
    {
     "data": {
      "text/html": [
       "<div>\n",
       "<style scoped>\n",
       "    .dataframe tbody tr th:only-of-type {\n",
       "        vertical-align: middle;\n",
       "    }\n",
       "\n",
       "    .dataframe tbody tr th {\n",
       "        vertical-align: top;\n",
       "    }\n",
       "\n",
       "    .dataframe thead th {\n",
       "        text-align: right;\n",
       "    }\n",
       "</style>\n",
       "<table border=\"1\" class=\"dataframe\">\n",
       "  <thead>\n",
       "    <tr style=\"text-align: right;\">\n",
       "      <th></th>\n",
       "      <th>Postal Code</th>\n",
       "      <th>Model Year</th>\n",
       "      <th>Electric Range</th>\n",
       "      <th>Base MSRP</th>\n",
       "      <th>Legislative District</th>\n",
       "      <th>DOL Vehicle ID</th>\n",
       "      <th>2020 Census Tract</th>\n",
       "    </tr>\n",
       "  </thead>\n",
       "  <tbody>\n",
       "    <tr>\n",
       "      <th>count</th>\n",
       "      <td>143574.000000</td>\n",
       "      <td>143596.000000</td>\n",
       "      <td>143596.000000</td>\n",
       "      <td>143596.000000</td>\n",
       "      <td>143269.000000</td>\n",
       "      <td>1.435960e+05</td>\n",
       "      <td>1.435740e+05</td>\n",
       "    </tr>\n",
       "    <tr>\n",
       "      <th>mean</th>\n",
       "      <td>98175.212824</td>\n",
       "      <td>2019.865574</td>\n",
       "      <td>70.495738</td>\n",
       "      <td>1373.386515</td>\n",
       "      <td>29.371748</td>\n",
       "      <td>2.092015e+08</td>\n",
       "      <td>5.297590e+10</td>\n",
       "    </tr>\n",
       "    <tr>\n",
       "      <th>std</th>\n",
       "      <td>2383.169088</td>\n",
       "      <td>3.016004</td>\n",
       "      <td>97.128735</td>\n",
       "      <td>9450.067747</td>\n",
       "      <td>14.823899</td>\n",
       "      <td>8.353700e+07</td>\n",
       "      <td>1.594040e+09</td>\n",
       "    </tr>\n",
       "    <tr>\n",
       "      <th>min</th>\n",
       "      <td>1730.000000</td>\n",
       "      <td>1997.000000</td>\n",
       "      <td>0.000000</td>\n",
       "      <td>0.000000</td>\n",
       "      <td>1.000000</td>\n",
       "      <td>4.385000e+03</td>\n",
       "      <td>1.081042e+09</td>\n",
       "    </tr>\n",
       "    <tr>\n",
       "      <th>25%</th>\n",
       "      <td>98052.000000</td>\n",
       "      <td>2018.000000</td>\n",
       "      <td>0.000000</td>\n",
       "      <td>0.000000</td>\n",
       "      <td>18.000000</td>\n",
       "      <td>1.668338e+08</td>\n",
       "      <td>5.303301e+10</td>\n",
       "    </tr>\n",
       "    <tr>\n",
       "      <th>50%</th>\n",
       "      <td>98122.000000</td>\n",
       "      <td>2021.000000</td>\n",
       "      <td>19.000000</td>\n",
       "      <td>0.000000</td>\n",
       "      <td>33.000000</td>\n",
       "      <td>2.111039e+08</td>\n",
       "      <td>5.303303e+10</td>\n",
       "    </tr>\n",
       "    <tr>\n",
       "      <th>75%</th>\n",
       "      <td>98370.000000</td>\n",
       "      <td>2022.000000</td>\n",
       "      <td>111.000000</td>\n",
       "      <td>0.000000</td>\n",
       "      <td>43.000000</td>\n",
       "      <td>2.364520e+08</td>\n",
       "      <td>5.305307e+10</td>\n",
       "    </tr>\n",
       "    <tr>\n",
       "      <th>max</th>\n",
       "      <td>99403.000000</td>\n",
       "      <td>2024.000000</td>\n",
       "      <td>337.000000</td>\n",
       "      <td>845000.000000</td>\n",
       "      <td>49.000000</td>\n",
       "      <td>4.792548e+08</td>\n",
       "      <td>5.603300e+10</td>\n",
       "    </tr>\n",
       "  </tbody>\n",
       "</table>\n",
       "</div>"
      ],
      "text/plain": [
       "         Postal Code     Model Year  Electric Range      Base MSRP  \\\n",
       "count  143574.000000  143596.000000   143596.000000  143596.000000   \n",
       "mean    98175.212824    2019.865574       70.495738    1373.386515   \n",
       "std      2383.169088       3.016004       97.128735    9450.067747   \n",
       "min      1730.000000    1997.000000        0.000000       0.000000   \n",
       "25%     98052.000000    2018.000000        0.000000       0.000000   \n",
       "50%     98122.000000    2021.000000       19.000000       0.000000   \n",
       "75%     98370.000000    2022.000000      111.000000       0.000000   \n",
       "max     99403.000000    2024.000000      337.000000  845000.000000   \n",
       "\n",
       "       Legislative District  DOL Vehicle ID  2020 Census Tract  \n",
       "count         143269.000000    1.435960e+05       1.435740e+05  \n",
       "mean              29.371748    2.092015e+08       5.297590e+10  \n",
       "std               14.823899    8.353700e+07       1.594040e+09  \n",
       "min                1.000000    4.385000e+03       1.081042e+09  \n",
       "25%               18.000000    1.668338e+08       5.303301e+10  \n",
       "50%               33.000000    2.111039e+08       5.303303e+10  \n",
       "75%               43.000000    2.364520e+08       5.305307e+10  \n",
       "max               49.000000    4.792548e+08       5.603300e+10  "
      ]
     },
     "execution_count": 7,
     "metadata": {},
     "output_type": "execute_result"
    }
   ],
   "source": [
    "#NBVAL_CHECK_OUTPUT\n",
    "pd_desc(df)"
   ]
  },
  {
   "cell_type": "code",
   "execution_count": 8,
   "metadata": {},
   "outputs": [
    {
     "data": {
      "text/plain": [
       "70.49573804284242"
      ]
     },
     "execution_count": 8,
     "metadata": {},
     "output_type": "execute_result"
    }
   ],
   "source": [
    "#NBVAL_CHECK_OUTPUT\n",
    "mean(df['Electric Range'])"
   ]
  },
  {
   "cell_type": "code",
   "execution_count": 9,
   "metadata": {},
   "outputs": [
    {
     "data": {
      "text/plain": [
       "2021.0"
      ]
     },
     "execution_count": 9,
     "metadata": {},
     "output_type": "execute_result"
    }
   ],
   "source": [
    "#NBVAL_CHECK_OUTPUT\n",
    "median(df['Model Year'])"
   ]
  },
  {
   "cell_type": "code",
   "execution_count": 10,
   "metadata": {},
   "outputs": [
    {
     "data": {
      "text/plain": [
       "97.128735"
      ]
     },
     "execution_count": 10,
     "metadata": {},
     "output_type": "execute_result"
    }
   ],
   "source": [
    "#NBVAL_CHECK_OUTPUT\n",
    "round(std(df['Electric Range']), 6)"
   ]
  },
  {
   "cell_type": "markdown",
   "metadata": {},
   "source": [
    "## Visualization"
   ]
  },
  {
   "cell_type": "code",
   "execution_count": 11,
   "metadata": {},
   "outputs": [
    {
     "data": {
      "image/png": "[encoded data removed]",
      "text/plain": [
       "<Figure size 640x480 with 1 Axes>"
      ]
     },
     "metadata": {},
     "output_type": "display_data"
    }
   ],
   "source": [
    "pd_visual(df['Model Year'])"
   ]
  },
  {
   "cell_type": "code",
   "execution_count": null,
   "metadata": {},
   "outputs": [],
   "source": []
  }
 ],
 "metadata": {
  "kernelspec": {
   "display_name": "base",
   "language": "python",
   "name": "python3"
  },
  "language_info": {
   "codemirror_mode": {
    "name": "ipython",
    "version": 3
   },
   "file_extension": ".py",
   "mimetype": "text/x-python",
   "name": "python",
   "nbconvert_exporter": "python",
   "pygments_lexer": "ipython3",
   "version": "3.11.4"
  },
  "orig_nbformat": 4
 },
 "nbformat": 4,
 "nbformat_minor": 2
}
